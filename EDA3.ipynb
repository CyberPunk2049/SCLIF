{
 "cells": [
  {
   "cell_type": "code",
   "execution_count": 5,
   "metadata": {
    "collapsed": true
   },
   "outputs": [],
   "source": [
    "import warnings\n",
    "warnings.simplefilter('ignore')\n",
    "from matplotlib import pyplot as plt\n",
    "import pandas as pd\n",
    "import numpy as np\n",
    "import seaborn as sns"
   ]
  },
  {
   "cell_type": "code",
   "execution_count": 6,
   "metadata": {},
   "outputs": [],
   "source": [
    "PATH='data10/'"
   ]
  },
  {
   "cell_type": "code",
   "execution_count": 7,
   "metadata": {},
   "outputs": [],
   "source": [
    "data=pd.read_csv(PATH+'channels_paramsCF.csv',index_col='Index')"
   ]
  },
  {
   "cell_type": "code",
   "execution_count": 8,
   "metadata": {},
   "outputs": [
    {
     "data": {
      "text/plain": [
       "Index(['id', '0.0', '50.0', '50.05', '50.1', '50.15', '50.2', '50.25', '50.3',\n       '50.35',\n       ...\n       '49.7', '49.75', '49.8', '49.85', '49.9', '49.95', '4.95', '0.45',\n       'File', 'Channel'],\n      dtype='object', length=2504)"
      ]
     },
     "execution_count": 8,
     "metadata": {},
     "output_type": "execute_result"
    }
   ],
   "source": [
    "data.columns"
   ]
  },
  {
   "cell_type": "code",
   "execution_count": 9,
   "metadata": {},
   "outputs": [],
   "source": [
    "data1=data\n",
    "\n",
    "data1['Channel']=data1['Channel'].astype('str')\n",
    "data1['fullname']=data['File']+data['Channel']"
   ]
  },
  {
   "cell_type": "code",
   "execution_count": 10,
   "metadata": {},
   "outputs": [
    {
     "data": {
      "text/plain": [
       "array(['data10/1.edf19', 'data10/2.edf7', 'data10/2.edf9',\n       'data10/3.edf7', 'data10/3.edf8', 'data10/3.edf9',\n       'data10/4.edf15', 'data10/5.edf14', 'data10/6.edf14',\n       'data10/7.edf21'], dtype=object)"
      ]
     },
     "execution_count": 10,
     "metadata": {},
     "output_type": "execute_result"
    }
   ],
   "source": [
    "data1['fullname'].unique()"
   ]
  },
  {
   "cell_type": "code",
   "execution_count": 11,
   "metadata": {},
   "outputs": [],
   "source": [
    "lowF=['0.0','0.1','0.2','0.3','0.4','0.5','0.6','0.7','0.8','0.9','1.0']\n",
    "HiF=['10.0','10.1','10.2','10.3','10.4','10.5','10.6','10.7','10.8','10.9','11.0','11.1','11.2','11.3','11.4','11.5','11.6','11.7','11.8','11.9',\n",
    "     '12.0','12.1','12.2','12.3','12.4','12.5','12.6','12.7','12.8','12.9','13.0','13.1','13.2','13.3','13.4','13.5','13.6','13.7','13.8','13.9',\n",
    "     '14.0','14.1','14.2','14.3','14.4','14.5','14.6','14.7','14.8','14.9','15.0']\n",
    "\n",
    "data1['LF']=0\n",
    "for frq in lowF:\n",
    "    data1['LF']=data1['LF']+data1[frq]*data1[frq]\n",
    "data1['LF']=data1['LF']/1251\n",
    "\n",
    "data1['HF']=0\n",
    "for frq in HiF:\n",
    "    data1['HF']=data1['HF']+data1[frq]*data1[frq]\n",
    "data1['HF']=data1['HF']/1251"
   ]
  },
  {
   "cell_type": "code",
   "execution_count": 12,
   "metadata": {},
   "outputs": [],
   "source": [
    "data2=data1.join(pd.DataFrame(data1.groupby(['fullname'])['LF'].mean()).reset_index().set_index('fullname'),on='fullname', rsuffix='_mean')"
   ]
  },
  {
   "cell_type": "code",
   "execution_count": 14,
   "metadata": {},
   "outputs": [],
   "source": [
    "data2['LF_rel']=data2['LF']/data2['LF_mean']"
   ]
  },
  {
   "cell_type": "code",
   "execution_count": 38,
   "metadata": {},
   "outputs": [
    {
     "data": {
      "text/plain": [
       "<matplotlib.axes._subplots.AxesSubplot at 0x7fda4aaec240>"
      ]
     },
     "execution_count": 38,
     "metadata": {},
     "output_type": "execute_result"
    },
    {
     "data": {
      "image/png": "[encoded data removed]",
      "text/plain": [
       "<Figure size 432x288 with 1 Axes>"
      ]
     },
     "metadata": {},
     "output_type": "display_data"
    }
   ],
   "source": [
    "sns.distplot(data2[data2['fullname']=='data10/1.edf19']['LF_rel'])"
   ]
  },
  {
   "cell_type": "code",
   "execution_count": 21,
   "metadata": {
    "collapsed": true
   },
   "outputs": [],
   "source": [
    "data3=data1.join(pd.DataFrame(data1.groupby(['fullname'])['HF'].mean()).reset_index().set_index('fullname'),on='fullname', rsuffix='_mean')"
   ]
  },
  {
   "cell_type": "code",
   "execution_count": 23,
   "metadata": {},
   "outputs": [],
   "source": [
    "data3['HF_rel']=data3['HF']/data3['HF_mean']"
   ]
  },
  {
   "cell_type": "code",
   "execution_count": 42,
   "metadata": {},
   "outputs": [
    {
     "data": {
      "image/png": "[encoded data removed]",
      "text/plain": [
       "<Figure size 432x288 with 1 Axes>"
      ]
     },
     "metadata": {},
     "output_type": "display_data"
    }
   ],
   "source": [
    "pl=sns.distplot(data3[data3['fullname']=='data10/1.edf19']['HF_rel'])\n",
    "axes=pl.axes\n",
    "#axes.set_ylim(0,0.05)\n",
    "axes.set_xlim(0,5)"
   ]
  },
  {
   "cell_type": "code",
   "execution_count": null,
   "metadata": {},
   "outputs": [],
   "source": []
  }
 ],
 "metadata": {
  "kernelspec": {
   "display_name": "Python 2",
   "language": "python",
   "name": "python2"
  },
  "language_info": {
   "codemirror_mode": {
    "name": "ipython",
    "version": 2
   },
   "file_extension": ".py",
   "mimetype": "text/x-python",
   "name": "python",
   "nbconvert_exporter": "python",
   "pygments_lexer": "ipython2",
   "version": "2.7.6"
  }
 },
 "nbformat": 4,
 "nbformat_minor": 0
}
