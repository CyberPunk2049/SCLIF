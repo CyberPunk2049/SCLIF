{
 "cells": [
  {
   "cell_type": "markdown",
   "metadata": {},
   "source": [
    "# Извлечение признаков из электромиограмм"
   ]
  },
  {
   "cell_type": "code",
   "execution_count": 1,
   "metadata": {},
   "outputs": [],
   "source": [
    "import warnings\n",
    "warnings.simplefilter('ignore')\n",
    "from pyedflib import EdfReader\n",
    "from matplotlib import pyplot as plt\n",
    "from tsfresh.feature_extraction import extract_features, MinimalFCParameters\n",
    "import pandas as pd\n",
    "import numpy as np"
   ]
  },
  {
   "cell_type": "markdown",
   "metadata": {},
   "source": [
    "### Параметры:\n",
    "Построение таблицы признаков (pd.DataFrame) происходит с шагом в одну секунду на скользящем временном окне."
   ]
  },
  {
   "cell_type": "code",
   "execution_count": 2,
   "metadata": {},
   "outputs": [],
   "source": [
    "WINDOW_LENGTH=20             #Длина скользящего окна в секундах(нечётное значение)\n",
    "PATH='data/'                 #Путь к данным\n",
    "CHANNELS_LIST='channels.xlsx'#Список каналов для извлечения признаков"
   ]
  },
  {
   "cell_type": "markdown",
   "metadata": {},
   "source": [
    "### Описание признаков\n",
    "Наследованый класс настройки признаков пакета tsfresh (https://github.com/blue-yonder/tsfresh)\n",
    "Полный список доступных признаков(http://tsfresh.readthedocs.io/en/latest/text/list_of_features.html)\n",
    "\n",
    "Предварительно отобраны:\n",
    "\n",
    "abs-energy [Абсолютная энергия сигнала](http://tsfresh.readthedocs.io/en/latest/api/tsfresh.feature_extraction.html#tsfresh.feature_extraction.feature_calculators.abs_energy)\n",
    "    \n",
    "maximum [Максимум](http://tsfresh.readthedocs.io/en/latest/api/tsfresh.feature_extraction.html#tsfresh.feature_extraction.feature_calculators.maximum)\n",
    "    \n",
    "minimum [Минимум](http://tsfresh.readthedocs.io/en/latest/api/tsfresh.feature_extraction.html#tsfresh.feature_extraction.feature_calculators.minimum)\n",
    "    \n",
    "median [Медиана](http://tsfresh.readthedocs.io/en/latest/api/tsfresh.feature_extraction.html#tsfresh.feature_extraction.feature_calculators.median)\n",
    "    \n",
    "mean [Среднее](http://tsfresh.readthedocs.io/en/latest/api/tsfresh.feature_extraction.html#tsfresh.feature_extraction.feature_calculators.mean)\n",
    "    \n",
    "mean_abs_change [Среднее модуля производной](http://tsfresh.readthedocs.io/en/latest/api/tsfresh.feature_extraction.html#tsfresh.feature_extraction.feature_calculators.mean_abs_change)\n",
    "    \n",
    "mean_change [Среднее производной](http://tsfresh.readthedocs.io/en/latest/api/tsfresh.feature_extraction.html#tsfresh.feature_extraction.feature_calculators.mean_change)\n",
    "    \n",
    "standart_deviation [Стандартное отклонение](http://tsfresh.readthedocs.io/en/latest/api/tsfresh.feature_extraction.html#tsfresh.feature_extraction.feature_calculators.standard_deviation)\n",
    "    "
   ]
  },
  {
   "cell_type": "code",
   "execution_count": 3,
   "metadata": {},
   "outputs": [],
   "source": [
    "class EmgFCPParameters(MinimalFCParameters):\n",
    "    \"\"\"\n",
    "    Класс настройки списка извлекаемых признаков\n",
    "    \"\"\"\n",
    "    def __init__(self):\n",
    "        MinimalFCParameters.__init__(self)\n",
    "        \n",
    "        to_del=['length','variance','sum_values']\n",
    "        to_add=['abs_energy','mean_abs_change','mean_change']\n",
    "        \n",
    "        for param in to_del:\n",
    "            del self[param]\n",
    "        \n",
    "        for param in to_add:\n",
    "            self[param]=None\n",
    "            "
   ]
  },
  {
   "cell_type": "code",
   "execution_count": 4,
   "metadata": {},
   "outputs": [],
   "source": [
    "def movie_window(file,chnum,wsec=WINDOW_LENGTH):\n",
    "    \"\"\"\n",
    "    Функция скользящего окна заданной длительности, на выходе получаем numpy.array,\n",
    "    содержащий оконные срезы для каждой секунды\n",
    "    \"\"\"\n",
    "    frq=file.getSampleFrequency(chnum)\n",
    "    record=file.readSignal(chnum)\n",
    "    rlen=file.getNSamples()[chnum]\n",
    "    \n",
    "    rsec=rlen//frq\n",
    "    record_windows=np.zeros((rsec-(wsec//2)*2,wsec*frq))\n",
    "    \n",
    "    for i,row in enumerate(record_windows):\n",
    "        record_windows[i]=record[i*frq:(i+wsec)*frq]\n",
    "    \n",
    "    return record_windows"
   ]
  },
  {
   "cell_type": "code",
   "execution_count": 5,
   "metadata": {},
   "outputs": [],
   "source": [
    "def to_tsfresh_DataFrame(record_windows,wsec=WINDOW_LENGTH):\n",
    "    \"\"\"\n",
    "    Функция формирующая DataFrame для извлечения признаков с помощью tsfresh,\n",
    "    из numpy.array поллученного movie_window\n",
    "    \"\"\"\n",
    "    df=pd.DataFrame(record_windows)\n",
    "    df=df.stack(level=0).reset_index()\n",
    "    df.columns=['wtime_sec','samples','values']\n",
    "    df['wtime_sec']=df['wtime_sec']+WINDOW_LENGTH//2+1\n",
    "    return df"
   ]
  },
  {
   "cell_type": "code",
   "execution_count": 6,
   "metadata": {},
   "outputs": [],
   "source": [
    "def get_params(records,params=EmgFCPParameters()):\n",
    "    \"\"\"\n",
    "    Функция извлечения признаков из DataFrame, полученного с помощью to_tsfresh_DataFrame\n",
    "    \"\"\"\n",
    "    return extract_features(records,\n",
    "                            default_fc_parameters=params,\n",
    "                            column_id='wtime_sec',\n",
    "                            column_sort=\"samples\")"
   ]
  },
  {
   "cell_type": "code",
   "execution_count": 7,
   "metadata": {},
   "outputs": [],
   "source": [
    "def movie_window_params(filename,chnum,path=PATH,wsec=WINDOW_LENGTH):\n",
    "    \"\"\"\n",
    "    Извлечение признаков из электромиограммы на скользящем временном окне\n",
    "    \"\"\"\n",
    "    EDFData=EdfReader(path+filename)\n",
    "    record_windows=movie_window(EDFData,chnum,wsec=WINDOW_LENGTH)\n",
    "    dataf=to_tsfresh_DataFrame(record_windows)\n",
    "    params=get_params(dataf)\n",
    "    params['File']=filename\n",
    "    params['Channel']=chnum\n",
    "    EDFData._close()\n",
    "    return params"
   ]
  },
  {
   "cell_type": "code",
   "execution_count": 8,
   "metadata": {},
   "outputs": [],
   "source": [
    "def multifiles_params(channels=CHANNELS_LIST,path=PATH):\n",
    "    \"\"\"\n",
    "    Извлечение признаков из нескольких электромиограмм, объединение в одну таблицу и сохранение их в .csv файл\n",
    "    \"\"\"\n",
    "    channels_df=pd.read_excel(path+channels)\n",
    "    channels_df['Channel']=channels_df['Channel']-1\n",
    "    params_df_list=[]\n",
    "    \n",
    "    for i,row in channels_df.iterrows():\n",
    "        print('File '+str(row['File'])+', Channel '+str(row['Channel']))\n",
    "        params_df_list.append(movie_window_params(str(row['File'])+'.edf',row['Channel']))\n",
    "    \n",
    "    params_df = pd.concat(params_df_list).reset_index()\n",
    "    params_df.index.names=['Index']\n",
    "    params_df.to_csv(PATH+'channels'+'_params.csv')\n",
    "    \n",
    "    return params_df"
   ]
  },
  {
   "cell_type": "code",
   "execution_count": 9,
   "metadata": {},
   "outputs": [
    {
     "name": "stdout",
     "output_type": "stream",
     "text": [
      "File 1, Channel 18\n"
     ]
    },
    {
     "name": "stderr",
     "output_type": "stream",
     "text": [
      "Feature Extraction: 100%|██████████| 10/10 [00:08<00:00,  1.16it/s]\n"
     ]
    },
    {
     "name": "stdout",
     "output_type": "stream",
     "text": [
      "File 2, Channel 6\n"
     ]
    },
    {
     "name": "stderr",
     "output_type": "stream",
     "text": [
      "Feature Extraction: 100%|██████████| 10/10 [00:09<00:00,  1.02it/s]\n"
     ]
    },
    {
     "name": "stdout",
     "output_type": "stream",
     "text": [
      "File 2, Channel 8\n"
     ]
    },
    {
     "name": "stderr",
     "output_type": "stream",
     "text": [
      "Feature Extraction: 100%|██████████| 10/10 [00:09<00:00,  1.02it/s]\n"
     ]
    },
    {
     "name": "stdout",
     "output_type": "stream",
     "text": [
      "File 3, Channel 6\n"
     ]
    },
    {
     "name": "stderr",
     "output_type": "stream",
     "text": [
      "Feature Extraction: 100%|██████████| 10/10 [00:08<00:00,  1.21it/s]\n"
     ]
    },
    {
     "name": "stdout",
     "output_type": "stream",
     "text": [
      "File 3, Channel 7\n"
     ]
    },
    {
     "name": "stderr",
     "output_type": "stream",
     "text": [
      "Feature Extraction: 100%|██████████| 10/10 [00:08<00:00,  1.20it/s]\n"
     ]
    },
    {
     "name": "stdout",
     "output_type": "stream",
     "text": [
      "File 3, Channel 8\n"
     ]
    },
    {
     "name": "stderr",
     "output_type": "stream",
     "text": [
      "Feature Extraction: 100%|██████████| 10/10 [00:08<00:00,  1.20it/s]\n"
     ]
    },
    {
     "name": "stdout",
     "output_type": "stream",
     "text": [
      "File 4, Channel 14\n"
     ]
    },
    {
     "name": "stderr",
     "output_type": "stream",
     "text": [
      "Feature Extraction: 100%|██████████| 10/10 [00:09<00:00,  1.03it/s]\n"
     ]
    },
    {
     "name": "stdout",
     "output_type": "stream",
     "text": [
      "File 5, Channel 13\n"
     ]
    },
    {
     "name": "stderr",
     "output_type": "stream",
     "text": [
      "Feature Extraction: 100%|██████████| 10/10 [00:09<00:00,  1.11it/s]\n"
     ]
    },
    {
     "name": "stdout",
     "output_type": "stream",
     "text": [
      "File 6, Channel 13\n"
     ]
    },
    {
     "name": "stderr",
     "output_type": "stream",
     "text": [
      "Feature Extraction: 100%|██████████| 10/10 [00:08<00:00,  1.12it/s]\n"
     ]
    },
    {
     "name": "stdout",
     "output_type": "stream",
     "text": [
      "File 7, Channel 20\n"
     ]
    },
    {
     "name": "stderr",
     "output_type": "stream",
     "text": [
      "Feature Extraction: 100%|██████████| 10/10 [00:08<00:00,  1.19it/s]\n"
     ]
    },
    {
     "name": "stdout",
     "output_type": "stream",
     "text": [
      "CPU times: user 4min 40s, sys: 1min 43s, total: 6min 23s\n",
      "Wall time: 7min 31s\n"
     ]
    }
   ],
   "source": [
    "%%time\n",
    "params_df_list=multifiles_params()"
   ]
  },
  {
   "cell_type": "code",
   "execution_count": null,
   "metadata": {},
   "outputs": [],
   "source": []
  }
 ],
 "metadata": {
  "kernelspec": {
   "display_name": "Python 3",
   "language": "python",
   "name": "python3"
  },
  "language_info": {
   "codemirror_mode": {
    "name": "ipython",
    "version": 3
   },
   "file_extension": ".py",
   "mimetype": "text/x-python",
   "name": "python",
   "nbconvert_exporter": "python",
   "pygments_lexer": "ipython3",
   "version": "3.6.5"
  }
 },
 "nbformat": 4,
 "nbformat_minor": 2
}
