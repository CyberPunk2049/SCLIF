{
 "cells": [
  {
   "cell_type": "code",
   "execution_count": 1,
   "metadata": {},
   "outputs": [],
   "source": [
    "import warnings\n",
    "warnings.simplefilter('ignore')\n",
    "from pyedflib import EdfReader\n",
    "from matplotlib import pyplot as plt\n",
    "from tsfresh.feature_extraction import extract_features, MinimalFCParameters\n",
    "import pandas as pd\n",
    "import numpy as np"
   ]
  },
  {
   "cell_type": "code",
   "execution_count": 2,
   "metadata": {},
   "outputs": [],
   "source": [
    "WINDOW_LENGTH=20             #Длина скользящего окна в секундах(нечётное значение)\n",
    "PATH='data/'\n",
    "CHANNELS_LIST='channels.xlsx'"
   ]
  },
  {
   "cell_type": "code",
   "execution_count": 4,
   "metadata": {},
   "outputs": [],
   "source": [
    "class EmgFCPParameters(MinimalFCParameters):\n",
    "    \"\"\"\n",
    "    Класс настройки списка извлекаемых признаков\n",
    "    \"\"\"\n",
    "    def __init__(self):\n",
    "        MinimalFCParameters.__init__(self)\n",
    "        \n",
    "        to_del=['length']\n",
    "        for param in to_del:\n",
    "            del self[param]"
   ]
  },
  {
   "cell_type": "code",
   "execution_count": 5,
   "metadata": {},
   "outputs": [],
   "source": [
    "def movie_window(file,chnum,wsec=WINDOW_LENGTH):\n",
    "    \"\"\"\n",
    "    Функция скользящего окна заданной длительности, на выходе получаем numpy.array,\n",
    "    содержащий оконные срезы для каждой секунды\n",
    "    \"\"\"\n",
    "    frq=file.getSampleFrequency(chnum)\n",
    "    record=file.readSignal(chnum)\n",
    "    rlen=file.getNSamples()[chnum]\n",
    "    \n",
    "    rsec=rlen//frq\n",
    "    record_windows=np.zeros((rsec-(wsec//2)*2,wsec*frq))\n",
    "    \n",
    "    for i,row in enumerate(record_windows):\n",
    "        record_windows[i]=record[i*frq:(i+wsec)*frq]\n",
    "    \n",
    "    return record_windows"
   ]
  },
  {
   "cell_type": "code",
   "execution_count": 6,
   "metadata": {},
   "outputs": [],
   "source": [
    "def to_tsfresh_DataFrame(record_windows,wsec=WINDOW_LENGTH):\n",
    "    \"\"\"\n",
    "    Функция формирующая DataFrame для извлечения признаков с помощью tsfresh,\n",
    "    из numpy.array поллученного movie_window\n",
    "    \"\"\"\n",
    "    df=pd.DataFrame(record_windows)\n",
    "    df=df.stack(level=0).reset_index()\n",
    "    df.columns=['wtime_sec','samples','values']\n",
    "    df['wtime_sec']=df['wtime_sec']+WINDOW_LENGTH//2+1\n",
    "    return df"
   ]
  },
  {
   "cell_type": "code",
   "execution_count": 7,
   "metadata": {},
   "outputs": [],
   "source": [
    "def get_params(records,params=EmgFCPParameters()):\n",
    "    \"\"\"\n",
    "    Функция извлечения признаков из DataFrame, полученного с помощью to_tsfresh_DataFrame\n",
    "    \"\"\"\n",
    "    return extract_features(records,\n",
    "                            default_fc_parameters=params,\n",
    "                            column_id='wtime_sec',\n",
    "                            column_sort=\"samples\")"
   ]
  },
  {
   "cell_type": "code",
   "execution_count": 8,
   "metadata": {},
   "outputs": [],
   "source": [
    "def movie_window_params(filename,chnum,path=PATH,wsec=WINDOW_LENGTH):\n",
    "    \"\"\"\n",
    "    \"\"\"\n",
    "    EDFData=EdfReader(path+filename)\n",
    "    record_windows=movie_window(EDFData,chnum,wsec=WINDOW_LENGTH)\n",
    "    dataf=to_tsfresh_DataFrame(record_windows)\n",
    "    params=get_params(dataf)\n",
    "    params['File']=filename\n",
    "    params['Channel']=chnum\n",
    "    EDFData._close()\n",
    "    return params"
   ]
  },
  {
   "cell_type": "code",
   "execution_count": 9,
   "metadata": {},
   "outputs": [],
   "source": [
    "def multifiles_params(channels=CHANNELS_LIST,path=PATH):\n",
    "    channels_df=pd.read_excel(path+channels)\n",
    "    params_df_list=[]\n",
    "    \n",
    "    for i,row in channels_df.iterrows():\n",
    "        print('File '+str(row['File'])+', Channel '+str(row['Channel']))\n",
    "        %%time\n",
    "        params_df_list.append(movie_window_params(str(row['File'])+'.edf',row['Channel']))\n",
    "    \n",
    "    params_df = pd.concat(params_df_list).reset_index()\n",
    "    params_df.index.names=['Index']\n",
    "    params_df.to_csv(PATH+'channels'+'_params.csv')\n",
    "    \n",
    "    return params_df"
   ]
  },
  {
   "cell_type": "code",
   "execution_count": 10,
   "metadata": {},
   "outputs": [
    {
     "name": "stdout",
     "output_type": "stream",
     "text": [
      "File 1, Channel 19\n",
      "CPU times: user 3 µs, sys: 1 µs, total: 4 µs\n",
      "Wall time: 5.96 µs\n"
     ]
    },
    {
     "name": "stderr",
     "output_type": "stream",
     "text": [
      "Feature Extraction: 100%|██████████| 10/10 [00:06<00:00,  1.48it/s]\n"
     ]
    },
    {
     "name": "stdout",
     "output_type": "stream",
     "text": [
      "File 2, Channel 7\n",
      "CPU times: user 2 µs, sys: 1e+03 ns, total: 3 µs\n",
      "Wall time: 3.81 µs\n"
     ]
    },
    {
     "name": "stderr",
     "output_type": "stream",
     "text": [
      "Feature Extraction: 100%|██████████| 10/10 [00:07<00:00,  1.29it/s]\n"
     ]
    },
    {
     "name": "stdout",
     "output_type": "stream",
     "text": [
      "File 2, Channel 9\n",
      "CPU times: user 1e+03 ns, sys: 1 µs, total: 2 µs\n",
      "Wall time: 4.29 µs\n"
     ]
    },
    {
     "name": "stderr",
     "output_type": "stream",
     "text": [
      "Feature Extraction: 100%|██████████| 10/10 [00:07<00:00,  1.30it/s]\n"
     ]
    },
    {
     "name": "stdout",
     "output_type": "stream",
     "text": [
      "File 3, Channel 7\n",
      "CPU times: user 1e+03 ns, sys: 0 ns, total: 1e+03 ns\n",
      "Wall time: 3.81 µs\n"
     ]
    },
    {
     "name": "stderr",
     "output_type": "stream",
     "text": [
      "Feature Extraction: 100%|██████████| 10/10 [00:06<00:00,  1.54it/s]\n"
     ]
    },
    {
     "name": "stdout",
     "output_type": "stream",
     "text": [
      "File 3, Channel 8\n",
      "CPU times: user 2 µs, sys: 1e+03 ns, total: 3 µs\n",
      "Wall time: 4.05 µs\n"
     ]
    },
    {
     "name": "stderr",
     "output_type": "stream",
     "text": [
      "Feature Extraction: 100%|██████████| 10/10 [00:06<00:00,  1.49it/s]\n"
     ]
    },
    {
     "name": "stdout",
     "output_type": "stream",
     "text": [
      "File 3, Channel 9\n",
      "CPU times: user 2 µs, sys: 0 ns, total: 2 µs\n",
      "Wall time: 4.05 µs\n"
     ]
    },
    {
     "name": "stderr",
     "output_type": "stream",
     "text": [
      "Feature Extraction: 100%|██████████| 10/10 [00:06<00:00,  1.54it/s]\n"
     ]
    },
    {
     "name": "stdout",
     "output_type": "stream",
     "text": [
      "File 4, Channel 15\n",
      "CPU times: user 1 µs, sys: 0 ns, total: 1 µs\n",
      "Wall time: 4.05 µs\n"
     ]
    },
    {
     "name": "stderr",
     "output_type": "stream",
     "text": [
      "Feature Extraction: 100%|██████████| 10/10 [00:07<00:00,  1.31it/s]\n"
     ]
    }
   ],
   "source": [
    "params_df_list=multifiles_params()"
   ]
  },
  {
   "cell_type": "code",
   "execution_count": null,
   "metadata": {},
   "outputs": [],
   "source": [
    "len(params_df_list)"
   ]
  },
  {
   "cell_type": "code",
   "execution_count": null,
   "metadata": {},
   "outputs": [],
   "source": [
    "params_df_list[0].head()"
   ]
  },
  {
   "cell_type": "code",
   "execution_count": null,
   "metadata": {},
   "outputs": [],
   "source": [
    "result = pd.concat(params_df_list).reset_index()"
   ]
  },
  {
   "cell_type": "code",
   "execution_count": null,
   "metadata": {},
   "outputs": [],
   "source": [
    "result.to_csv(PATH+'channels'+'_params.csv')"
   ]
  },
  {
   "cell_type": "code",
   "execution_count": null,
   "metadata": {},
   "outputs": [],
   "source": [
    "result.index.names=['Index']"
   ]
  },
  {
   "cell_type": "code",
   "execution_count": null,
   "metadata": {},
   "outputs": [],
   "source": []
  }
 ],
 "metadata": {
  "kernelspec": {
   "display_name": "Python 3",
   "language": "python",
   "name": "python3"
  },
  "language_info": {
   "codemirror_mode": {
    "name": "ipython",
    "version": 3
   },
   "file_extension": ".py",
   "mimetype": "text/x-python",
   "name": "python",
   "nbconvert_exporter": "python",
   "pygments_lexer": "ipython3",
   "version": "3.6.3"
  }
 },
 "nbformat": 4,
 "nbformat_minor": 2
}
